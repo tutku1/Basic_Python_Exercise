{
 "cells": [
  {
   "cell_type": "code",
   "execution_count": 21,
   "id": "944f41ee",
   "metadata": {},
   "outputs": [
    {
     "name": "stdout",
     "output_type": "stream",
     "text": [
      "Enter your high in centemeter: 165\n",
      "Enter your weight in kilogram: 57\n",
      "Your body mass index is 20.936639118457304 kg/m^2\n",
      "You are healthy\n"
     ]
    }
   ],
   "source": [
    "user_height = int(input(\"Enter your high in centemeter: \"))\n",
    "user_weight = int(input(\"Enter your weight in kilogram: \"))\n",
    "\n",
    "height_in_meters = user_height / 100\n",
    "\n",
    "BMI = user_weight / height_in_meters**2\n",
    "print(\"Your body mass index is\", BMI, \"kg/m^2\")\n",
    "\n",
    "if BMI < 18.5:\n",
    "    print(\"You are underweight\")\n",
    "elif 18.5 <= BMI <= 24.9:\n",
    "    print(\"You are healthy\")\n",
    "elif 25 <= BMI <= 29.9:\n",
    "    print(\"You are overweight\")\n",
    "elif 30 <= BMI <= 39.9:\n",
    "    print(\"You are obese\")\n",
    "elif BMI >=  40:\n",
    "    print(\"You are severely obese\")\n",
    "    \n",
    "else:(\"enter valid details\")"
   ]
  },
  {
   "cell_type": "code",
   "execution_count": null,
   "id": "8a1a80a3",
   "metadata": {},
   "outputs": [],
   "source": []
  },
  {
   "cell_type": "code",
   "execution_count": null,
   "id": "f523404c",
   "metadata": {},
   "outputs": [],
   "source": []
  }
 ],
 "metadata": {
  "kernelspec": {
   "display_name": "Python 3 (ipykernel)",
   "language": "python",
   "name": "python3"
  },
  "language_info": {
   "codemirror_mode": {
    "name": "ipython",
    "version": 3
   },
   "file_extension": ".py",
   "mimetype": "text/x-python",
   "name": "python",
   "nbconvert_exporter": "python",
   "pygments_lexer": "ipython3",
   "version": "3.10.9"
  }
 },
 "nbformat": 4,
 "nbformat_minor": 5
}
